{
 "cells": [
  {
   "cell_type": "code",
   "execution_count": 8,
   "metadata": {},
   "outputs": [],
   "source": [
    "# title = \"autoencoder for MNIST dataset\"    \n",
    "# author = \"Cindy Pino-Barrios\"\n",
    "# date = \"03-22-2023\"\n",
    "# description = \"Train a 64x16x64 autoencoder on the [digits](https://scikit-learn.org/stable/datasets/toy_dataset.html#digits-dataset) dataset. \\n\n",
    "#                   All of the following work should be done in a Jupyter Notebook.\""
   ]
  },
  {
   "cell_type": "code",
   "execution_count": 16,
   "metadata": {},
   "outputs": [],
   "source": [
    "# Import the necessary packages and modules \n",
    "\n",
    "from nn.nn import NeuralNetwork\n",
    "from nn.preprocess import sample_seqs\n",
    "from nn.preprocess import one_hot_encode_seqs\n",
    "from nn.io import read_text_file, read_fasta_file"
   ]
  },
  {
   "cell_type": "code",
   "execution_count": 17,
   "metadata": {},
   "outputs": [],
   "source": [
    "# Import Libraries \n",
    "import numpy as np\n",
    "import pandas as pd\n",
    "import matplotlib.pyplot as plt\n",
    "from sklearn.datasets import load_digits\n",
    "from sklearn.model_selection import train_test_split\n"
   ]
  },
  {
   "attachments": {},
   "cell_type": "markdown",
   "metadata": {},
   "source": [
    "# Autoencoder for Digit Data\n",
    "\n",
    "Objective \n",
    "------\n",
    "        Trained a 64x16x64 autoencoder on the digit dataset \n",
    "\n",
    "Procedure\n",
    "------\n",
    "\n",
    "-  Load the digits dataset through sklearn using <code><a href=\"https://scikit-learn.org/stable/modules/generated/sklearn.datasets.load_digits.html\">sklearn.datasets.load_digits()</a></code>.\n",
    "-  Split the data into training and validation sets.\n",
    "-  Generate an instance of your `NeuralNetwork` class with a 64x16x64 autoencoder architecture.\n",
    "-  Train your autoencoder on the training data.\n",
    "-  Plot your training and validation loss by epoch.\n",
    "-  Quantify your average reconstruction error over the validation set.\n",
    "-  Explain why you chose the hyperparameter values you did."
   ]
  },
  {
   "cell_type": "code",
   "execution_count": 18,
   "metadata": {},
   "outputs": [],
   "source": [
    "# Load the digit dataset, normalize the data, and split the data into training and testing sets\n",
    "\n",
    "digits = load_digits()  # Load the digits dataset\n",
    "X, y = digits.data, digits.target  # X is the data, y is the target\n",
    "\n",
    "X = X/16  # Normalize the data\n",
    "\n",
    "# Split the data into training and testing sets (use 20% of the data for testing) \n",
    "X_train, X_val, y_train, y_val = train_test_split(X, y, test_size=0.2, random_state=42)"
   ]
  },
  {
   "cell_type": "code",
   "execution_count": 12,
   "metadata": {},
   "outputs": [
    {
     "name": "stdout",
     "output_type": "stream",
     "text": [
      "The optimal hyperparameters are: learning rate = 0.1, epochs = 5, batch_size = 5\n"
     ]
    }
   ],
   "source": [
    "# Create a for loop to determine which parameters to use for the NeuralNetwork class instance to get the lowest loss on the validation set \n",
    "\n",
    "## Parameters:\n",
    "seed = 42\n",
    "nn_arch = [{'input_dim': 64, 'output_dim': 16, 'activation': 'relu'},{ 'input_dim': 16, 'output_dim': 64, 'activation': 'relu'}]\n",
    "\n",
    "\n",
    "lr = [0.001, 0.01, 0.1, 1]\n",
    "epochs = [5, 10, 100, 200, 300, 400, 500]\n",
    "batch_size = [5, 32, 64, 128, 256, 512]\n",
    "loss = 'mse'\n",
    "\n",
    "## Create a for loop to determine which parameters to use for the NeuralNetwork class instance to get the lowest loss on the validation set\n",
    "hyperparameters = []\n",
    "for l in lr:\n",
    "    for epoch in epochs:\n",
    "        for bs in batch_size:\n",
    "            autoencoder = NeuralNetwork(nn_arch=nn_arch, lr=l, seed=seed, batch_size=bs, epochs=epoch, loss_function=loss)\n",
    "            _ , loss_test = autoencoder.fit(X_train, X_train, X_val, X_val)\n",
    "            hyperparameters.append([l, epoch, bs, loss_test])\n",
    "            # create a df of the hyperparameters and the loss\n",
    "            df_hyperparameters = pd.DataFrame(hyperparameters, columns=['learning rate', 'epochs', 'batch_size', 'loss_test'])\n",
    "            # sort the df by the loss by lowest loss first\n",
    "            df_hyperparameters = df_hyperparameters.sort_values(by='loss_test')\n",
    "            # select the optimal hyperparameters from the df\n",
    "            optimal = df_hyperparameters.iloc[0]\n",
    "\n",
    "\n",
    "\n",
    "# creating a print statement to print the optimal hyperparameters of learning rate, epochs, batch_size, and the minimal loss value\n",
    "\n",
    "print(f'The optimal hyperparameters are: learning rate = {optimal[0]}, epochs = {optimal[1]}, batch_size = {optimal[2]}')\n",
    "print('the optimal hyperparameters provide the lowest loss value on the validation set based on the iterations of the for loop')\n",
    "\n"
   ]
  },
  {
   "cell_type": "code",
   "execution_count": 19,
   "metadata": {},
   "outputs": [],
   "source": [
    "# Train the autoencoder with the optimal hyperparameters \n",
    "\n",
    "autoencoder = NeuralNetwork(nn_arch=nn_arch, lr=optimal[0], seed=seed, batch_size = optimal[2], epochs = optimal[1], loss_function=loss)"
   ]
  },
  {
   "cell_type": "code",
   "execution_count": 20,
   "metadata": {},
   "outputs": [],
   "source": [
    "# Train the autoencoder\n",
    "train_loss, val_loss = autoencoder.fit(X_train, X_train, X_val, X_val)"
   ]
  },
  {
   "cell_type": "code",
   "execution_count": 21,
   "metadata": {},
   "outputs": [
    {
     "data": {
      "image/png": "[encoded data removed]",
      "text/plain": [
       "<Figure size 432x288 with 1 Axes>"
      ]
     },
     "metadata": {
      "needs_background": "light"
     },
     "output_type": "display_data"
    }
   ],
   "source": [
    "# Plot training and validation loss by epoch\n",
    "\n",
    "# Plot training and validation loss by epoch\n",
    "plt.plot(train_loss, label=\"Training Loss\")\n",
    "plt.plot(val_loss, label=\"Validation Loss\")\n",
    "plt.xlabel(\"Epoch\")\n",
    "plt.ylabel(\"Loss\")\n",
    "plt.legend()\n",
    "\n",
    "plt.show()"
   ]
  },
  {
   "cell_type": "code",
   "execution_count": 22,
   "metadata": {},
   "outputs": [
    {
     "name": "stdout",
     "output_type": "stream",
     "text": [
      "Average Training Error: 1.1641524027095567\n",
      "Average Validation Error: 1.1415768630209737\n"
     ]
    }
   ],
   "source": [
    "# print the average reconstruction error over the validation set\n",
    "print(f'Average Training Error: {np.mean(train_loss)}')\n",
    "print(f'Average Validation Error: {np.mean(val_loss)}')\n"
   ]
  }
 ],
 "metadata": {
  "kernelspec": {
   "display_name": "BMI_203",
   "language": "python",
   "name": "python3"
  },
  "language_info": {
   "codemirror_mode": {
    "name": "ipython",
    "version": 3
   },
   "file_extension": ".py",
   "mimetype": "text/x-python",
   "name": "python",
   "nbconvert_exporter": "python",
   "pygments_lexer": "ipython3",
   "version": "3.10.4"
  },
  "orig_nbformat": 4
 },
 "nbformat": 4,
 "nbformat_minor": 2
}
